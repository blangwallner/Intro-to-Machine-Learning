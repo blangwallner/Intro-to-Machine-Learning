{
 "cells": [
  {
   "cell_type": "markdown",
   "metadata": {},
   "source": [
    "#  Natural Language Processing Case Study\n",
    "\n",
    "## Sentiment Classification for Customer reviews"
   ]
  },
  {
   "cell_type": "markdown",
   "metadata": {},
   "source": [
    " "
   ]
  },
  {
   "cell_type": "markdown",
   "metadata": {},
   "source": [
    "## 1. Import required packages"
   ]
  },
  {
   "cell_type": "code",
   "execution_count": 1,
   "metadata": {},
   "outputs": [],
   "source": [
    "import sklearn\n",
    "import pandas as pd\n",
    "from sklearn.model_selection import train_test_split\n",
    "from sklearn.metrics import accuracy_score\n",
    "import numpy as np\n",
    "from matplotlib import pyplot as plt\n",
    "from sklearn import preprocessing\n",
    "from sklearn.feature_extraction import text\n",
    "\n",
    "# import sklearn classifiers\n",
    "from sklearn.linear_model import LogisticRegression\n",
    "from sklearn.naive_bayes import GaussianNB\n",
    "from sklearn.tree import DecisionTreeClassifier\n",
    "from sklearn.svm import SVC\n",
    "from sklearn.neural_network import MLPClassifier\n",
    "from sklearn.neighbors import KNeighborsClassifier\n",
    "from sklearn.gaussian_process import GaussianProcessClassifier\n",
    "from sklearn.gaussian_process.kernels import RBF\n",
    "from sklearn.ensemble import RandomForestClassifier, AdaBoostClassifier\n",
    "from sklearn.naive_bayes import GaussianNB\n",
    "from sklearn.discriminant_analysis import QuadraticDiscriminantAnalysis"
   ]
  },
  {
   "cell_type": "code",
   "execution_count": 2,
   "metadata": {},
   "outputs": [],
   "source": [
    "from sklearn.feature_extraction.text import CountVectorizer, TfidfVectorizer"
   ]
  },
  {
   "cell_type": "markdown",
   "metadata": {},
   "source": [
    "## 2. Load dataset"
   ]
  },
  {
   "cell_type": "code",
   "execution_count": 3,
   "metadata": {},
   "outputs": [],
   "source": [
    "data = pd.read_csv('data/IMDB Dataset.csv')"
   ]
  },
  {
   "cell_type": "code",
   "execution_count": 4,
   "metadata": {},
   "outputs": [
    {
     "data": {
      "text/html": [
       "<div>\n",
       "<style scoped>\n",
       "    .dataframe tbody tr th:only-of-type {\n",
       "        vertical-align: middle;\n",
       "    }\n",
       "\n",
       "    .dataframe tbody tr th {\n",
       "        vertical-align: top;\n",
       "    }\n",
       "\n",
       "    .dataframe thead th {\n",
       "        text-align: right;\n",
       "    }\n",
       "</style>\n",
       "<table border=\"1\" class=\"dataframe\">\n",
       "  <thead>\n",
       "    <tr style=\"text-align: right;\">\n",
       "      <th></th>\n",
       "      <th>review</th>\n",
       "      <th>sentiment</th>\n",
       "    </tr>\n",
       "  </thead>\n",
       "  <tbody>\n",
       "    <tr>\n",
       "      <th>0</th>\n",
       "      <td>One of the other reviewers has mentioned that ...</td>\n",
       "      <td>positive</td>\n",
       "    </tr>\n",
       "    <tr>\n",
       "      <th>1</th>\n",
       "      <td>A wonderful little production. &lt;br /&gt;&lt;br /&gt;The...</td>\n",
       "      <td>positive</td>\n",
       "    </tr>\n",
       "    <tr>\n",
       "      <th>2</th>\n",
       "      <td>I thought this was a wonderful way to spend ti...</td>\n",
       "      <td>positive</td>\n",
       "    </tr>\n",
       "    <tr>\n",
       "      <th>3</th>\n",
       "      <td>Basically there's a family where a little boy ...</td>\n",
       "      <td>negative</td>\n",
       "    </tr>\n",
       "    <tr>\n",
       "      <th>4</th>\n",
       "      <td>Petter Mattei's \"Love in the Time of Money\" is...</td>\n",
       "      <td>positive</td>\n",
       "    </tr>\n",
       "  </tbody>\n",
       "</table>\n",
       "</div>"
      ],
      "text/plain": [
       "                                              review sentiment\n",
       "0  One of the other reviewers has mentioned that ...  positive\n",
       "1  A wonderful little production. <br /><br />The...  positive\n",
       "2  I thought this was a wonderful way to spend ti...  positive\n",
       "3  Basically there's a family where a little boy ...  negative\n",
       "4  Petter Mattei's \"Love in the Time of Money\" is...  positive"
      ]
     },
     "execution_count": 4,
     "metadata": {},
     "output_type": "execute_result"
    }
   ],
   "source": [
    "data.head()"
   ]
  },
  {
   "cell_type": "code",
   "execution_count": 5,
   "metadata": {},
   "outputs": [
    {
     "name": "stdout",
     "output_type": "stream",
     "text": [
      "Review =\n",
      "One of the other reviewers has mentioned that after watching just 1 Oz episode you'll be hooked. They are right, as this is exactly what happened with me.<br /><br />The first thing that struck me about Oz was its brutality and unflinching scenes of violence, which set in right from the word GO. Trust me, this is not a show for the faint hearted or timid. This show pulls no punches with regards to drugs, sex or violence. Its is hardcore, in the classic use of the word.<br /><br />It is called OZ as that is the nickname given to the Oswald Maximum Security State Penitentary. It focuses mainly on Emerald City, an experimental section of the prison where all the cells have glass fronts and face inwards, so privacy is not high on the agenda. Em City is home to many..Aryans, Muslims, gangstas, Latinos, Christians, Italians, Irish and more....so scuffles, death stares, dodgy dealings and shady agreements are never far away.<br /><br />I would say the main appeal of the show is due to the fact that it goes where other shows wouldn't dare. Forget pretty pictures painted for mainstream audiences, forget charm, forget romance...OZ doesn't mess around. The first episode I ever saw struck me as so nasty it was surreal, I couldn't say I was ready for it, but as I watched more, I developed a taste for Oz, and got accustomed to the high levels of graphic violence. Not just violence, but injustice (crooked guards who'll be sold out for a nickel, inmates who'll kill on order and get away with it, well mannered, middle class inmates being turned into prison bitches due to their lack of street skills or prison experience) Watching Oz, you may become comfortable with what is uncomfortable viewing....thats if you can get in touch with your darker side.\n",
      "\n",
      "Sentiment = positive\n"
     ]
    }
   ],
   "source": [
    "i = 0\n",
    "print('Review =\\n{}\\n'.format(data.iloc[i,0]))\n",
    "print(\"Sentiment = {}\".format(data.iloc[i,1]))"
   ]
  },
  {
   "cell_type": "markdown",
   "metadata": {},
   "source": [
    "##  3. Analyze Dataset"
   ]
  },
  {
   "cell_type": "markdown",
   "metadata": {},
   "source": [
    "### Apply tokenizing"
   ]
  },
  {
   "cell_type": "markdown",
   "metadata": {},
   "source": [
    "_______________\n",
    "\n",
    "### <span style=\"color:blue\">**TODO: Experiment with both Vectorizer choices and different parameters!**</span>"
   ]
  },
  {
   "cell_type": "code",
   "execution_count": 6,
   "metadata": {},
   "outputs": [],
   "source": [
    "# set stopwords\n",
    "stopwords = text.ENGLISH_STOP_WORDS\n",
    "\n",
    "# initialize and fit vectorizer\n",
    "\n",
    "vect = CountVectorizer(max_features=10000, stop_words=stopwords).fit(data['review'])\n",
    "#vect = TfidfVectorizer(max_features=10000, stop_words=stopwords.words('english')).fit(data['review'])\n",
    "\n",
    "# apply vectorizer to data set\n",
    "X = vect.transform(data['review'])"
   ]
  },
  {
   "cell_type": "markdown",
   "metadata": {},
   "source": [
    "Number of discarded tokens: since we chose to use only the most frequent tokens, the number of stop words goes up a lot!"
   ]
  },
  {
   "cell_type": "code",
   "execution_count": 7,
   "metadata": {},
   "outputs": [
    {
     "name": "stdout",
     "output_type": "stream",
     "text": [
      "91583\n"
     ]
    }
   ],
   "source": [
    "#print(vect.vocabulary_)\n",
    "print(len(vect.stop_words_))"
   ]
  },
  {
   "cell_type": "code",
   "execution_count": 8,
   "metadata": {},
   "outputs": [],
   "source": [
    "y = data['sentiment'].apply(lambda x: 1 if x == 'positive' else 0)"
   ]
  },
  {
   "cell_type": "markdown",
   "metadata": {},
   "source": [
    "Basic information on tokens and size of dictionary"
   ]
  },
  {
   "cell_type": "code",
   "execution_count": 9,
   "metadata": {},
   "outputs": [
    {
     "name": "stdout",
     "output_type": "stream",
     "text": [
      "Number of features: 10000\n",
      "\n",
      "First 20 features:\n",
      "['00', '000', '007', '10', '100', '1000', '101', '11', '12', '13', '13th', '14', '15', '150', '16', '17', '18', '18th', '19', '1920', '1920s', '1930', '1930s', '1931', '1932', '1933', '1934', '1936', '1937', '1938', '1939', '1940', '1940s', '1941', '1942', '1943', '1944', '1945', '1946', '1947', '1948', '1949', '1950', '1950s', '1951', '1952', '1953', '1955', '1956', '1957', '1958', '1959', '1960', '1960s', '1962', '1963', '1964', '1965', '1966', '1967', '1968', '1969', '1970', '1970s', '1971', '1972', '1973', '1974', '1975', '1976', '1977', '1978', '1979', '1980', '1980s', '1981', '1982', '1983', '1984', '1985', '1986', '1987', '1988', '1989', '1990', '1990s', '1991', '1992', '1993', '1994', '1995', '1996', '1997', '1998', '1999', '19th', '1st', '20', '200', '2000']\n",
      "\n",
      "Features 5010 to 5030:\n",
      "['kiefer', 'kieslowski', 'kill', 'killed', 'killer', 'killers', 'killing', 'killings', 'killjoy', 'kills', 'kilmer', 'kim', 'kind', 'kinda', 'kindly', 'kindness', 'kinds', 'king', 'kingdom', 'kings']\n",
      "\n",
      "Every 2000th feature:\n",
      "['00', 'consists', 'gray', 'native', 'shakespeare']\n",
      "\n"
     ]
    }
   ],
   "source": [
    "feature_names = vect.get_feature_names()\n",
    "print(\"Number of features: {}\\n\".format(len(feature_names)))\n",
    "print(\"First 20 features:\\n{}\\n\".format(feature_names[:100]))\n",
    "print(\"Features 5010 to 5030:\\n{}\\n\".format(feature_names[5010:5030]))\n",
    "print(\"Every 2000th feature:\\n{}\\n\".format(feature_names[::2000]))"
   ]
  },
  {
   "cell_type": "markdown",
   "metadata": {},
   "source": [
    "## 4. Split into train and test set"
   ]
  },
  {
   "cell_type": "code",
   "execution_count": 10,
   "metadata": {},
   "outputs": [],
   "source": [
    "X_train, X_test, y_train, y_test = train_test_split(X, y, test_size=0.2, random_state=42)"
   ]
  },
  {
   "cell_type": "markdown",
   "metadata": {},
   "source": [
    "## 5. Choose classifier method and fit on data\n",
    "_______________\n",
    "### <span style=\"color:blue\">**TODO: Experiment with different classifier choices and different parameters!**</span>"
   ]
  },
  {
   "cell_type": "code",
   "execution_count": 11,
   "metadata": {},
   "outputs": [],
   "source": [
    "#clf = KNeighborsClassifier(3)\n",
    "#clf = tree.DecisionTreeClassifier(max_depth=25, min_samples_leaf=10)\n",
    "clf = LogisticRegression(max_iter=5000)\n",
    "#clf = RandomForestClassifier(max_depth=5, n_estimators=10, max_features=1)\n",
    "#clf = GaussianNB()\n",
    "#clf = GaussianProcessClassifier(1.0 * RBF(1.0))\n",
    "#clf = MLPClassifier(alpha=1, max_iter=1000)\n",
    "#clf = AdaBoostClassifier()\n",
    "#clf = QuadraticDiscriminantAnalysis()"
   ]
  },
  {
   "cell_type": "code",
   "execution_count": 12,
   "metadata": {},
   "outputs": [],
   "source": [
    "#clf = clf.fit(X_train, y_train)\n",
    "clf = clf.fit(X_train.toarray(), y_train)"
   ]
  },
  {
   "cell_type": "markdown",
   "metadata": {},
   "source": [
    "## 6. Use trained model to predict labels for train and test set"
   ]
  },
  {
   "cell_type": "code",
   "execution_count": 13,
   "metadata": {},
   "outputs": [],
   "source": [
    "y_pred = clf.predict(X_test.toarray())\n",
    "y_train_pred = clf.predict(X_train.toarray())"
   ]
  },
  {
   "cell_type": "code",
   "execution_count": 14,
   "metadata": {},
   "outputs": [],
   "source": [
    "test_accuracy = accuracy_score(y_test, y_pred)\n",
    "train_accuracy = accuracy_score(y_train, y_train_pred)"
   ]
  },
  {
   "cell_type": "code",
   "execution_count": 15,
   "metadata": {},
   "outputs": [
    {
     "name": "stdout",
     "output_type": "stream",
     "text": [
      "accuracy on training set = 97.5%\n",
      "accuracy on test set\t = 87.1%\n"
     ]
    }
   ],
   "source": [
    "print(\"accuracy on training set = {:1.1f}%\".format(100*train_accuracy))\n",
    "print(\"accuracy on test set\\t = {:1.1f}%\".format(100*test_accuracy))"
   ]
  },
  {
   "cell_type": "markdown",
   "metadata": {},
   "source": [
    "## Aside: Look at tokens associated with positive or negative sentiments"
   ]
  },
  {
   "cell_type": "code",
   "execution_count": 16,
   "metadata": {},
   "outputs": [
    {
     "name": "stdout",
     "output_type": "stream",
     "text": [
      "Words associated with negative reviews:\n",
      "['mst3k' 'waste' 'uninteresting' 'unremarkable' 'olds' 'disappointment'\n",
      " 'lifeless' 'motions' 'sticking' 'worst' 'leonard' 'controls'\n",
      " 'forgettable' 'tunnel' 'wasting' 'stinker' 'alright' 'obnoxious' 'feed'\n",
      " 'unwatchable' 'disappointing' 'boredom' 'revolting' 'inappropriate'\n",
      " 'lousy' 'mildly' 'prolonged' 'mediocre' 'miscast' 'baldwin' 'uninspired'\n",
      " 'unappealing' 'poorly' 'coincidences' 'laughable' 'shelf'\n",
      " 'unintentionally' 'awful' 'dreadful' 'rainy' 'awfulness' 'ethan'\n",
      " 'appalling' 'endlessly' 'lacks' 'bore' 'dramatically' 'turtle'\n",
      " 'manipulative' 'distinctly' 'unlikeable' 'fails' 'stereotyped' 'turkey'\n",
      " 'dire' 'yep' 'ludicrous' 'tedious' 'unfunny' 'jigsaw' 'discernible'\n",
      " 'steaming' 'unpleasant' 'bland' 'nixon' 'tiresome' 'plodding' 'boring'\n",
      " 'rourke' 'tolerable' 'quasi' 'lame' 'recycled' 'skip' 'neal' 'cannibal'\n",
      " 'geisha' 'avoid' 'annoyed' 'generous' 'beethoven' 'flimsy' 'schtick'\n",
      " 'doo' 'victims' 'behave' 'messy' 'disgrace' 'propaganda' 'horrible'\n",
      " 'senseless' 'seagal' 'mia' 'embarrassment' 'lowe' 'nope' 'slows'\n",
      " 'muddled' 'hype' 'redeem']\n",
      "\n",
      "\n",
      "Words associated with positive reviews:\n",
      "['fascinating' 'email' 'pleasantly' 'beautifully' 'representative'\n",
      " 'grisly' 'amir' 'definite' 'penny' 'poignant' 'elusive' 'glorious'\n",
      " 'chilling' 'lifeforce' 'jackass' 'identify' 'influenced' 'paths' 'finest'\n",
      " 'dandy' 'delirious' 'brilliantly' 'flawless' 'businessman' 'pitch' 'rare'\n",
      " 'scariest' 'apocalyptic' 'sheep' 'unexpectedly' 'pod' 'fears' 'complaint'\n",
      " 'tip' 'scorpion' 'compound' 'fewer' 'bakshi' 'notch' 'rudy' 'amato'\n",
      " 'heartbreaking' 'introduces' 'masterful' 'toby' 'paramount' 'pa'\n",
      " 'smiling' 'delightful' 'packed' 'wonderfully' 'funniest' 'criticisms'\n",
      " 'appreciated' 'dramas' 'pursuing' 'perfectly' 'eisenstein' 'glued'\n",
      " 'portman' 'hilary' 'entertains' 'miniseries' 'yokai' 'subtle' 'slower'\n",
      " 'simplicity' 'snippets' 'ideal' 'percent' 'prue' 'bloodbath' 'complain'\n",
      " 'marvellous' 'absorbing' 'segments' 'snowy' 'haunting' 'complained'\n",
      " 'pleased' 'budgeted' 'underrated' 'cope' 'chamberlain' 'patriot' 'damned'\n",
      " 'cerebral' 'evans' 'photograph' 'chavez' 'detract' 'excellently'\n",
      " 'weaknesses' 'outlook' 'temporary' 'hooked' 'disappoint' 'refreshing'\n",
      " 'bimbo']\n"
     ]
    }
   ],
   "source": [
    "try:\n",
    "    indices = np.argsort(clf.coef_[0])\n",
    "    feature_names = np.array(vect.get_feature_names())[indices]\n",
    "    neg_unigrams = feature_names[:100]\n",
    "    print('Words associated with negative reviews:')\n",
    "    print(neg_unigrams)\n",
    "    pos_unigrams = feature_names[-100:-1]\n",
    "    print('\\n')\n",
    "    print('Words associated with positive reviews:')\n",
    "    print(pos_unigrams)\n",
    "except:\n",
    "    print('Print classifier does not have coeff attribute')"
   ]
  },
  {
   "cell_type": "markdown",
   "metadata": {},
   "source": [
    "## Apply sentiment classification to new sentence"
   ]
  },
  {
   "cell_type": "code",
   "execution_count": 17,
   "metadata": {},
   "outputs": [],
   "source": [
    "sentiment = lambda x: 'positive' if x == 1 else 'negative'"
   ]
  },
  {
   "cell_type": "code",
   "execution_count": 18,
   "metadata": {},
   "outputs": [],
   "source": [
    "my_review = ['this movie was shit and crap at the same time']"
   ]
  },
  {
   "cell_type": "code",
   "execution_count": 19,
   "metadata": {},
   "outputs": [
    {
     "name": "stdout",
     "output_type": "stream",
     "text": [
      "Sentiment of review: negative\n"
     ]
    }
   ],
   "source": [
    "# vectorize new review\n",
    "x_rev = vect.transform(my_review)\n",
    "# Classify new review\n",
    "y_pred = clf.predict(x_rev.toarray())\n",
    "print('Sentiment of review: {}'.format(sentiment(y_pred)))"
   ]
  },
  {
   "cell_type": "code",
   "execution_count": 20,
   "metadata": {},
   "outputs": [],
   "source": [
    "import pickle"
   ]
  },
  {
   "cell_type": "code",
   "execution_count": 21,
   "metadata": {},
   "outputs": [],
   "source": [
    "pickle.dump(clf, open('nlp_model.pkl','wb'))"
   ]
  },
  {
   "cell_type": "code",
   "execution_count": 22,
   "metadata": {},
   "outputs": [],
   "source": [
    "pickle.dump(vect, open('nlp_vect.pkl','wb'))"
   ]
  },
  {
   "cell_type": "code",
   "execution_count": null,
   "metadata": {},
   "outputs": [],
   "source": []
  }
 ],
 "metadata": {
  "kernelspec": {
   "display_name": "pm_ml",
   "language": "python",
   "name": "pm_ml"
  },
  "language_info": {
   "codemirror_mode": {
    "name": "ipython",
    "version": 3
   },
   "file_extension": ".py",
   "mimetype": "text/x-python",
   "name": "python",
   "nbconvert_exporter": "python",
   "pygments_lexer": "ipython3",
   "version": "3.7.7"
  }
 },
 "nbformat": 4,
 "nbformat_minor": 2
}
