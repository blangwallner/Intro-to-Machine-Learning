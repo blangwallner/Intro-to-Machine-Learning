{
 "cells": [
  {
   "cell_type": "code",
   "execution_count": 14,
   "metadata": {},
   "outputs": [],
   "source": [
    "import sklearn\n",
    "import pandas as pd\n",
    "from sklearn.model_selection import train_test_split\n",
    "from sklearn.metrics import accuracy_score\n",
    "import numpy as np\n",
    "from matplotlib import pyplot as plt\n",
    "from sklearn import preprocessing"
   ]
  },
  {
   "cell_type": "code",
   "execution_count": 2,
   "metadata": {},
   "outputs": [],
   "source": [
    "from sklearn.feature_extraction.text import CountVectorizer, TfidfVectorizer"
   ]
  },
  {
   "cell_type": "code",
   "execution_count": 3,
   "metadata": {},
   "outputs": [],
   "source": [
    "data = pd.read_csv('data/IMDB Dataset.csv')"
   ]
  },
  {
   "cell_type": "code",
   "execution_count": 4,
   "metadata": {},
   "outputs": [
    {
     "data": {
      "text/html": [
       "<div>\n",
       "<style scoped>\n",
       "    .dataframe tbody tr th:only-of-type {\n",
       "        vertical-align: middle;\n",
       "    }\n",
       "\n",
       "    .dataframe tbody tr th {\n",
       "        vertical-align: top;\n",
       "    }\n",
       "\n",
       "    .dataframe thead th {\n",
       "        text-align: right;\n",
       "    }\n",
       "</style>\n",
       "<table border=\"1\" class=\"dataframe\">\n",
       "  <thead>\n",
       "    <tr style=\"text-align: right;\">\n",
       "      <th></th>\n",
       "      <th>review</th>\n",
       "      <th>sentiment</th>\n",
       "    </tr>\n",
       "  </thead>\n",
       "  <tbody>\n",
       "    <tr>\n",
       "      <th>0</th>\n",
       "      <td>One of the other reviewers has mentioned that ...</td>\n",
       "      <td>positive</td>\n",
       "    </tr>\n",
       "    <tr>\n",
       "      <th>1</th>\n",
       "      <td>A wonderful little production. &lt;br /&gt;&lt;br /&gt;The...</td>\n",
       "      <td>positive</td>\n",
       "    </tr>\n",
       "    <tr>\n",
       "      <th>2</th>\n",
       "      <td>I thought this was a wonderful way to spend ti...</td>\n",
       "      <td>positive</td>\n",
       "    </tr>\n",
       "    <tr>\n",
       "      <th>3</th>\n",
       "      <td>Basically there's a family where a little boy ...</td>\n",
       "      <td>negative</td>\n",
       "    </tr>\n",
       "    <tr>\n",
       "      <th>4</th>\n",
       "      <td>Petter Mattei's \"Love in the Time of Money\" is...</td>\n",
       "      <td>positive</td>\n",
       "    </tr>\n",
       "  </tbody>\n",
       "</table>\n",
       "</div>"
      ],
      "text/plain": [
       "                                              review sentiment\n",
       "0  One of the other reviewers has mentioned that ...  positive\n",
       "1  A wonderful little production. <br /><br />The...  positive\n",
       "2  I thought this was a wonderful way to spend ti...  positive\n",
       "3  Basically there's a family where a little boy ...  negative\n",
       "4  Petter Mattei's \"Love in the Time of Money\" is...  positive"
      ]
     },
     "execution_count": 4,
     "metadata": {},
     "output_type": "execute_result"
    }
   ],
   "source": [
    "data.head()"
   ]
  },
  {
   "cell_type": "code",
   "execution_count": 5,
   "metadata": {},
   "outputs": [],
   "source": [
    "vect = CountVectorizer(max_features=10000).fit(data['review'])\n",
    "#vect = TfidfVectorizer(max_features=10000).fit(data['review'])\n",
    "#  (max_features=2500, min_df=7, max_df=0.8, stop_words=stopwords.words('english')\n",
    "X = vect.transform(data['review'])"
   ]
  },
  {
   "cell_type": "code",
   "execution_count": 6,
   "metadata": {},
   "outputs": [
    {
     "name": "stdout",
     "output_type": "stream",
     "text": [
      "91895\n"
     ]
    }
   ],
   "source": [
    "#print(vect.vocabulary_)\n",
    "print(len(vect.stop_words_))"
   ]
  },
  {
   "cell_type": "code",
   "execution_count": 7,
   "metadata": {},
   "outputs": [],
   "source": [
    "y = data['sentiment'].apply(lambda x: 1 if x == 'positive' else 0)"
   ]
  },
  {
   "cell_type": "code",
   "execution_count": 8,
   "metadata": {},
   "outputs": [
    {
     "name": "stdout",
     "output_type": "stream",
     "text": [
      "Number of features: 10000\n",
      "First 20 features:\n",
      "['00', '000', '007', '10', '100', '1000', '101', '11', '12', '13', '13th', '14', '15', '150', '16', '17', '18', '18th', '19', '1920s', '1930', '1930s', '1931', '1932', '1933', '1934', '1936', '1938', '1939', '1940', '1940s', '1941', '1942', '1943', '1944', '1945', '1946', '1947', '1948', '1949', '1950', '1950s', '1951', '1952', '1953', '1955', '1956', '1957', '1958', '1959', '1960', '1960s', '1962', '1963', '1964', '1965', '1966', '1967', '1968', '1969', '1970', '1970s', '1971', '1972', '1973', '1974', '1975', '1976', '1977', '1978', '1979', '1980', '1980s', '1981', '1982', '1983', '1984', '1985', '1986', '1987', '1988', '1989', '1990', '1990s', '1991', '1992', '1993', '1994', '1995', '1996', '1997', '1998', '1999', '19th', '1st', '20', '200', '2000', '2001', '2002']\n",
      "Features 5010 to 5030:\n",
      "['kinky', 'kinnear', 'kinski', 'kirk', 'kiss', 'kisses', 'kissing', 'kitchen', 'kite', 'kitty', 'klaus', 'klein', 'kline', 'knack', 'knee', 'knees', 'knew', 'knife', 'knight', 'knightley']\n",
      "Every 2000th feature:\n",
      "['00', 'constraints', 'gregory', 'nearly', 'sheets']\n"
     ]
    }
   ],
   "source": [
    "feature_names = vect.get_feature_names()\n",
    "print(\"Number of features: {}\".format(len(feature_names)))\n",
    "print(\"First 20 features:\\n{}\".format(feature_names[:100]))\n",
    "print(\"Features 5010 to 5030:\\n{}\".format(feature_names[5010:5030]))\n",
    "print(\"Every 2000th feature:\\n{}\".format(feature_names[::2000]))"
   ]
  },
  {
   "cell_type": "code",
   "execution_count": 9,
   "metadata": {},
   "outputs": [],
   "source": [
    "X_train, X_test, y_train, y_test = train_test_split(X, y, test_size=0.2, random_state=42)"
   ]
  },
  {
   "cell_type": "code",
   "execution_count": 10,
   "metadata": {},
   "outputs": [],
   "source": [
    "#from sklearn import tree\n",
    "#clf = tree.DecisionTreeClassifier(max_depth=25, min_samples_leaf=10)\n",
    "#clf = clf.fit(X_train, y_train)"
   ]
  },
  {
   "cell_type": "code",
   "execution_count": 11,
   "metadata": {},
   "outputs": [],
   "source": [
    "#from sklearn import svm\n",
    "#clf = svm.SVC(C=1, kernel='linear')\n",
    "#clf = clf.fit(X_train, y_train)"
   ]
  },
  {
   "cell_type": "code",
   "execution_count": 16,
   "metadata": {},
   "outputs": [],
   "source": [
    "from sklearn.linear_model import LogisticRegression\n",
    "clf = LogisticRegression(max_iter=5000)\n",
    "clf = clf.fit(X_train, y_train)"
   ]
  },
  {
   "cell_type": "code",
   "execution_count": 37,
   "metadata": {},
   "outputs": [],
   "source": [
    "#from sklearn.naive_bayes import GaussianNB\n",
    "#clf = GaussianNB()\n",
    "#clf = clf.fit(X_train.toarray(), y_train)"
   ]
  },
  {
   "cell_type": "code",
   "execution_count": null,
   "metadata": {},
   "outputs": [],
   "source": []
  },
  {
   "cell_type": "code",
   "execution_count": 17,
   "metadata": {},
   "outputs": [],
   "source": [
    "y_pred = clf.predict(X_test.toarray())\n",
    "y_train_pred = clf.predict(X_train.toarray())"
   ]
  },
  {
   "cell_type": "code",
   "execution_count": 18,
   "metadata": {},
   "outputs": [],
   "source": [
    "test_accuracy = accuracy_score(y_test, y_pred)\n",
    "train_accuracy = accuracy_score(y_train, y_train_pred)"
   ]
  },
  {
   "cell_type": "code",
   "execution_count": 19,
   "metadata": {},
   "outputs": [
    {
     "name": "stdout",
     "output_type": "stream",
     "text": [
      "accuracy on training set = 97.8%\n",
      "accuracy on test set\t = 87.5%\n"
     ]
    }
   ],
   "source": [
    "print(\"accuracy on training set = {:1.1f}%\".format(100*train_accuracy))\n",
    "print(\"accuracy on test set\\t = {:1.1f}%\".format(100*test_accuracy))"
   ]
  },
  {
   "cell_type": "code",
   "execution_count": 20,
   "metadata": {},
   "outputs": [
    {
     "name": "stdout",
     "output_type": "stream",
     "text": [
      "Words associated with negative reviews:\n",
      "['waste' 'mst3k' 'disappointment' 'unremarkable' 'forgettable' 'worst'\n",
      " 'uninteresting' 'olds' 'stinker' 'lifeless' 'alright' 'baldwin' 'rainy'\n",
      " 'leonard' 'sticking' 'tunnel' 'motions' 'tiresome' 'prolonged'\n",
      " 'awfulness' 'disappointing' 'endlessly' 'controls' 'wasting' 'distinctly'\n",
      " 'poorly' 'laughable' 'unfunny' 'tedious' 'lousy' 'mediocre'\n",
      " 'unintentionally' 'lacks' 'dire' 'coincidences' 'inappropriate'\n",
      " 'obnoxious' 'mildly' 'annoyed' 'boredom' 'appalling' 'bore' 'unwatchable'\n",
      " 'ethan' 'awful' 'behave' 'costs' 'miscast' 'uninspired' 'feed' 'yep'\n",
      " 'boring' 'dreadful' 'smug' 'fails' 'ludicrous' 'jefferson' 'jigsaw'\n",
      " 'nope' 'turkey' 'bland' 'unlikeable' 'neal' 'slows' 'victims' 'messy'\n",
      " 'clone' 'cannibal' 'manipulative' 'dumber' 'credibility' 'revolting'\n",
      " 'avoid' 'amateurish' 'stares' 'hype' 'skip' 'endless' 'lame' 'rourke'\n",
      " 'stereotyped' 'horrible' 'recycled' 'senseless' 'mia' 'christians'\n",
      " 'dramatically' 'save' 'belongs' 'unpleasant' 'generous' 'disgrace'\n",
      " 'flimsy' 'shelf' 'bounty' 'unappealing' 'haired' 'doo' 'incoherent'\n",
      " 'fades']\n",
      "\n",
      "\n",
      "Words associated with positive reviews:\n",
      "['miniseries' 'amir' 'segments' 'raw' 'scariest' 'prisoners' 'marvel'\n",
      " 'fears' 'flashy' 'definite' 'departure' 'paintings' 'amato' 'hilary'\n",
      " '1947' 'delightful' 'poignant' 'justin' 'bud' 'delirious' 'gritty'\n",
      " 'coppola' 'neatly' 'tear' 'freaky' 'desolate' 'polished' 'penny' 'slew'\n",
      " 'influenced' 'complained' 'fought' 'tip' 'prue' 'surprisingly' 'raunchy'\n",
      " 'rudy' 'funniest' 'dramas' 'pitch' 'simplicity' 'haunting' 'finest'\n",
      " 'perfectly' 'toby' 'complain' 'wonderfully' 'businessman' 'percent' 'pa'\n",
      " 'bakshi' 'palma' 'pod' 'beautifully' 'email' 'cope' 'budgeted' 'snowy'\n",
      " 'jackass' 'slower' 'portman' 'poirot' 'con' 'patriot' 'identify'\n",
      " 'snippets' 'apocalyptic' 'bloodbath' 'evans' 'complaint' 'subtle'\n",
      " 'criticisms' 'underrated' 'eisenstein' 'fewer' 'entertains' 'glued'\n",
      " 'weaknesses' 'cerebral' 'detract' 'marvellous' 'chavez' 'compound'\n",
      " 'chamberlain' 'pleased' 'damned' 'absorbing' 'outlook' 'nevertheless'\n",
      " 'appreciated' 'ideal' 'photograph' 'smiling' 'excellently' 'hooked'\n",
      " 'disappoint' 'dismiss' 'refreshing' 'temporary']\n"
     ]
    }
   ],
   "source": [
    "try:\n",
    "    indices = np.argsort(clf.coef_[0])\n",
    "    feature_names = np.array(vect.get_feature_names())[indices]\n",
    "    neg_unigrams = feature_names[:100]\n",
    "    print('Words associated with negative reviews:')\n",
    "    print(neg_unigrams)\n",
    "    pos_unigrams = feature_names[-100:-1]\n",
    "    print('\\n')\n",
    "    print('Words associated with positive reviews:')\n",
    "    print(pos_unigrams)\n",
    "except:\n",
    "    print('Print classifier does not have coeff attribute')"
   ]
  },
  {
   "cell_type": "code",
   "execution_count": 16,
   "metadata": {},
   "outputs": [],
   "source": [
    "sentiment = lambda x: 'positive' if x == 1 else 'negative'"
   ]
  },
  {
   "cell_type": "code",
   "execution_count": 17,
   "metadata": {},
   "outputs": [
    {
     "name": "stdout",
     "output_type": "stream",
     "text": [
      "Sentiment of review: negative\n"
     ]
    }
   ],
   "source": [
    "review = ['this movie was shit and crap at the same time']\n",
    "x_rev = vect.transform(review)\n",
    "y_pred = clf.predict(x_rev.toarray())\n",
    "print('Sentiment of review: {}'.format(sentiment(y_pred)))"
   ]
  },
  {
   "cell_type": "code",
   "execution_count": null,
   "metadata": {},
   "outputs": [],
   "source": []
  }
 ],
 "metadata": {
  "kernelspec": {
   "display_name": "pm_ml",
   "language": "python",
   "name": "pm_ml"
  },
  "language_info": {
   "codemirror_mode": {
    "name": "ipython",
    "version": 3
   },
   "file_extension": ".py",
   "mimetype": "text/x-python",
   "name": "python",
   "nbconvert_exporter": "python",
   "pygments_lexer": "ipython3",
   "version": "3.7.7"
  }
 },
 "nbformat": 4,
 "nbformat_minor": 2
}
